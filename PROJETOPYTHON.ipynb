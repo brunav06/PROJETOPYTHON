{
  "nbformat": 4,
  "nbformat_minor": 0,
  "metadata": {
    "colab": {
      "provenance": [],
      "authorship_tag": "ABX9TyPCAfOECRauAZtIrmETQrc8",
      "include_colab_link": true
    },
    "kernelspec": {
      "name": "python3",
      "display_name": "Python 3"
    },
    "language_info": {
      "name": "python"
    }
  },
  "cells": [
    {
      "cell_type": "markdown",
      "metadata": {
        "id": "view-in-github",
        "colab_type": "text"
      },
      "source": [
        "<a href=\"https://colab.research.google.com/github/brunav06/PROJETOPYTHON/blob/main/PROJETOPYTHON.ipynb\" target=\"_parent\"><img src=\"https://colab.research.google.com/assets/colab-badge.svg\" alt=\"Open In Colab\"/></a>"
      ]
    },
    {
      "cell_type": "markdown",
      "source": [
        "Nome: Bruna ventura de azevedo \n",
        "\n",
        "Matrícula: 2018100704\n",
        "\n",
        "Curso: Desenvolvimento de Software Multiplataforma\n",
        "\n",
        "Data: 18/11/2022"
      ],
      "metadata": {
        "id": "K5YsSUvQxnRj"
      }
    },
    {
      "cell_type": "code",
      "execution_count": 37,
      "metadata": {
        "id": "UYYm-PVPk0iF"
      },
      "outputs": [],
      "source": [
        "# importação dos dados com pandas\n",
        "import io\n",
        "import pandas as pd"
      ]
    },
    {
      "cell_type": "code",
      "source": [
        "# importação do seaborn\n",
        "import seaborn as sns"
      ],
      "metadata": {
        "id": "8NINbxRWnIOC"
      },
      "execution_count": 9,
      "outputs": []
    },
    {
      "cell_type": "code",
      "source": [
        "#importação do matplotlib\n",
        "import matplotlib.pyplot as plt\n",
        "import numpy as np"
      ],
      "metadata": {
        "id": "hWHZF2WCnXXw"
      },
      "execution_count": 38,
      "outputs": []
    },
    {
      "cell_type": "markdown",
      "source": [
        "Repositório de dados feito em 01/11/1990. O Vision Group da Universidade de Massachusetts, tem como objetivo instâncias que foram sorteadas aleatoriamente de um banco de dados de 7 imagens externas criando uma classificação para cada pixel.\n"
      ],
      "metadata": {
        "id": "4o8TgeGi0oB0"
      }
    },
    {
      "cell_type": "code",
      "source": [
        "import requests # Biblioteca HTTP\n",
        "csv_url = 'http://archive.ics.uci.edu/ml/machine-learning-databases/image/segmentation.data'\n",
        "r = requests.get(url)"
      ],
      "metadata": {
        "id": "XliAMj7MAK6K"
      },
      "execution_count": 12,
      "outputs": []
    },
    {
      "cell_type": "code",
      "source": [
        "df = pd.read_csv(csv_url, skiprows=2, index_col=False)"
      ],
      "metadata": {
        "id": "NbIEWeKdb9b9"
      },
      "execution_count": null,
      "outputs": []
    },
    {
      "cell_type": "code",
      "source": [
        "df"
      ],
      "metadata": {
        "id": "mTOl_iVu4ZjI"
      },
      "execution_count": null,
      "outputs": []
    },
    {
      "cell_type": "code",
      "source": [
        "#infomações dados\n",
        "df.info()"
      ],
      "metadata": {
        "id": "3ZiAlEpmvK5P"
      },
      "execution_count": null,
      "outputs": []
    },
    {
      "cell_type": "code",
      "source": [
        "#conhecendo os dados 5 primeiros\n",
        "df.head()"
      ],
      "metadata": {
        "id": "OfvzIvWvvqcf"
      },
      "execution_count": null,
      "outputs": []
    },
    {
      "cell_type": "code",
      "source": [
        "#dimensões dos dados \n",
        "df.shape"
      ],
      "metadata": {
        "id": "JEZbm3Fjv2MO"
      },
      "execution_count": null,
      "outputs": []
    },
    {
      "cell_type": "code",
      "source": [
        "#analise exploratória \n",
        "df.describe(include = 'all')"
      ],
      "metadata": {
        "id": "JzwgE6GNwb54"
      },
      "execution_count": null,
      "outputs": []
    },
    {
      "cell_type": "code",
      "source": [
        "#tipos de dados\n",
        "df.dtypes"
      ],
      "metadata": {
        "id": "633ZU5jfEMEH"
      },
      "execution_count": null,
      "outputs": []
    },
    {
      "cell_type": "code",
      "source": [
        "#exclusão de dados \n",
        "df.isnull().sum()"
      ],
      "metadata": {
        "id": "xshnijfl36YG"
      },
      "execution_count": null,
      "outputs": []
    },
    {
      "cell_type": "code",
      "source": [
        "#histograma dos dados\n",
        "HUE = df[[\"HUE-MEAN\"]].dropna()\n",
        "display(HUE)\n",
        "HUE.plot.hist()"
      ],
      "metadata": {
        "id": "_QsJY0sV6NY3"
      },
      "execution_count": null,
      "outputs": []
    },
    {
      "cell_type": "markdown",
      "source": [
        "Concluo que esta etapa é fundamental, pois uma análise descritiva detalhada permite ao pesquisador familiarizar-se com os dados, organizá-los e sintetizá-los de forma a obter as informações necessárias do conjunto de dados para responder as questões que estão sendo estudadas."
      ],
      "metadata": {
        "id": "k6dfiTZTH5gP"
      }
    }
  ]
}